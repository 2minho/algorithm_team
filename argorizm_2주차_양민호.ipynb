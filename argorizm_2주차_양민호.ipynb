{
 "cells": [
  {
   "cell_type": "markdown",
   "id": "020c223a",
   "metadata": {},
   "source": [
    "## 카드2"
   ]
  },
  {
   "cell_type": "code",
   "execution_count": null,
   "id": "9e38c850",
   "metadata": {},
   "outputs": [],
   "source": [
    "index=int(input())\n",
    "a = list(range(1,index+1))\n",
    "front=0\n",
    "rast=index-1\n",
    "for i in range(index-1):\n",
    "    \n",
    "    a[front]=0\n",
    "    front+=1\n",
    "    if(front==index):\n",
    "        front=0;\n",
    "    rast+=1\n",
    "    if(rast==index):\n",
    "        rast=0;\n",
    "    a[rast]=a[front]\n",
    "    a[front]=0\n",
    "    front+=1\n",
    "    if(front==index):\n",
    "        front=0;\n",
    "\n",
    "print(a[front])  "
   ]
  },
  {
   "cell_type": "markdown",
   "id": "f3999951",
   "metadata": {},
   "source": [
    "## 프린터"
   ]
  },
  {
   "cell_type": "code",
   "execution_count": null,
   "id": "8d19e3cd",
   "metadata": {},
   "outputs": [],
   "source": [
    "def solution(priorities, location):\n",
    "    answer = 0\n",
    "    first=priorities.index(max(priorities))\n",
    "    for i in range(len(priorities)):\n",
    "        answer+=1\n",
    "        if first==location:\n",
    "            break\n",
    "        if priorities[first]>=priorities[location]:\n",
    "            priorities[first]=0\n",
    "            if max(priorities) in priorities[first:len(priorities)]:\n",
    "                first=priorities.index(max(priorities),first,len(priorities))\n",
    "            else :\n",
    "                first=priorities.index(max(priorities))     \n",
    "    return answer"
   ]
  },
  {
   "cell_type": "markdown",
   "id": "58ad181a",
   "metadata": {},
   "source": [
    "## 이진수 변환"
   ]
  },
  {
   "cell_type": "code",
   "execution_count": null,
   "id": "43e6bd65",
   "metadata": {},
   "outputs": [],
   "source": [
    "num=int(input())\n",
    "def bin_namuji(num):\n",
    "    na=num%2\n",
    "    mogs=num//2\n",
    "    if(mogs>1):\n",
    "        bin_namuji(mogs)\n",
    "        print(na,end=\"\")\n",
    "    else:\n",
    "        print(mogs,end=\"\")\n",
    "        print(na,end=\"\")\n",
    "        \n",
    "bin_namuji(num)"
   ]
  }
 ],
 "metadata": {
  "kernelspec": {
   "display_name": "Python 3 (ipykernel)",
   "language": "python",
   "name": "python3"
  },
  "language_info": {
   "codemirror_mode": {
    "name": "ipython",
    "version": 3
   },
   "file_extension": ".py",
   "mimetype": "text/x-python",
   "name": "python",
   "nbconvert_exporter": "python",
   "pygments_lexer": "ipython3",
   "version": "3.9.12"
  }
 },
 "nbformat": 4,
 "nbformat_minor": 5
}
