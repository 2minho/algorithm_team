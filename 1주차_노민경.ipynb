{
 "cells": [
  {
   "cell_type": "markdown",
   "id": "b257514e",
   "metadata": {},
   "source": [
    "# 괄호"
   ]
  },
  {
   "cell_type": "code",
   "execution_count": null,
   "id": "f0b43f3c",
   "metadata": {},
   "outputs": [],
   "source": [
    "def f():\n",
    "    x = list(input('괄호를 입력하세요'))\n",
    "    case = [0]\n",
    "    case_count = 0\n",
    "    for i in range(len(x)):\n",
    "        case.append(x[i])\n",
    "        x[i] = '0'\n",
    "        \n",
    "        if case[case_count] == '(' and case[case_count+1] ==')':\n",
    "            case.pop(case_count+1)\n",
    "            case.pop(case_count)\n",
    "            case_count -= 1\n",
    "       \n",
    "        else :\n",
    "            case_count += 1\n",
    "            \n",
    "    if len(case) == 1:\n",
    "        print(\"YES\")\n",
    "     \n",
    "    else :\n",
    "        print(\"NO\")"
   ]
  },
  {
   "cell_type": "code",
   "execution_count": null,
   "id": "b7496a08",
   "metadata": {},
   "outputs": [],
   "source": []
  },
  {
   "cell_type": "markdown",
   "id": "621b169d",
   "metadata": {},
   "source": [
    "# 크레인뽑기"
   ]
  },
  {
   "cell_type": "code",
   "execution_count": null,
   "id": "a1debbd4",
   "metadata": {},
   "outputs": [],
   "source": [
    "board = [[0,0,0,0,0],[0,0,1,0,3],[0,2,5,0,1],[4,2,4,4,2],[3,5,1,3,1]]\n",
    "moves = [1,5,3,5,1]\n",
    "\n",
    "\n",
    "def solution(board,moves):\n",
    "    box = [0]\n",
    "    a = 0\n",
    "    answer = 0\n",
    "    for i in moves:\n",
    "        for j in range(len(board)):\n",
    "            if board[j][i-1] != 0:\n",
    "                data = board[j][i-1]\n",
    "                box.append(data)\n",
    "                board[j][i-1] = 0\n",
    "                a += 1\n",
    "                if box[a] == box[a-1]:\n",
    "                    box.pop(a)\n",
    "                    box.pop(a-1)\n",
    "                    a -=2\n",
    "                    answer +=2\n",
    "                break\n",
    "\n",
    "                \n",
    "    return answer\n",
    "\n",
    "\n",
    "solution(board,moves)"
   ]
  }
 ],
 "metadata": {
  "kernelspec": {
   "display_name": "Python 3 (ipykernel)",
   "language": "python",
   "name": "python3"
  },
  "language_info": {
   "codemirror_mode": {
    "name": "ipython",
    "version": 3
   },
   "file_extension": ".py",
   "mimetype": "text/x-python",
   "name": "python",
   "nbconvert_exporter": "python",
   "pygments_lexer": "ipython3",
   "version": "3.9.12"
  }
 },
 "nbformat": 4,
 "nbformat_minor": 5
}
