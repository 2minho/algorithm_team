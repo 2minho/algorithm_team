{
 "cells": [
  {
   "cell_type": "markdown",
   "id": "5b137df6",
   "metadata": {},
   "source": [
    "## 괄호"
   ]
  },
  {
   "cell_type": "code",
   "execution_count": 1,
   "id": "6fd3964f",
   "metadata": {},
   "outputs": [
    {
     "name": "stdout",
     "output_type": "stream",
     "text": [
      "3\n",
      "()()((((((())))\n",
      "NO\n",
      "((((()))())()()()))\n",
      "NO\n",
      "()()()\n",
      "YES\n"
     ]
    }
   ],
   "source": [
    "in_index= int(input())\n",
    "for i in range(in_index):\n",
    "    in_put = input()\n",
    "    check_break=False\n",
    "    SIZE = 50\n",
    "    stack = [ None for _ in range(SIZE) ]\n",
    "    top = -1\n",
    "    for temp in (in_put):\n",
    "        if temp ==\"(\":\n",
    "            top+=1\n",
    "            stack[top]=0\n",
    "        else:\n",
    "            if top == -1 :\n",
    "                check_break=True\n",
    "                break\n",
    "            else :\n",
    "                stack[top]=None\n",
    "                top-=1\n",
    "    if (0 in stack) or check_break :\n",
    "        print(\"NO\")\n",
    "    else:\n",
    "        print(\"YES\")"
   ]
  },
  {
   "cell_type": "code",
   "execution_count": 2,
   "id": "015e6343",
   "metadata": {},
   "outputs": [],
   "source": [
    "## 크레인 인형뽑기 게임"
   ]
  },
  {
   "cell_type": "code",
   "execution_count": null,
   "id": "d89efbdf",
   "metadata": {},
   "outputs": [],
   "source": [
    "def solution(board, moves):\n",
    "    stack=[None for _ in range(len(moves))]\n",
    "    top=0\n",
    "    answer = 0\n",
    "    for i in moves:\n",
    "        i-=1\n",
    "        for j in range(len(board[0])):\n",
    "            if board[j][i] != 0:\n",
    "                stack[top] = board[j][i]\n",
    "                board[j][i] = 0\n",
    "                if top > 0:\n",
    "                    if(stack[top]==stack[top-1]):\n",
    "                        stack[top]=None\n",
    "                        stack[top-1]=None\n",
    "                        answer += 2\n",
    "                        top -= 1\n",
    "                        break\n",
    "                        \n",
    "                top += 1\n",
    "                break\n",
    "    return answer\n",
    "board=\n",
    "moves=\n",
    "print(solution(board,moves))"
   ]
  },
  {
   "cell_type": "code",
   "execution_count": null,
   "id": "919861a2",
   "metadata": {},
   "outputs": [],
   "source": []
  },
  {
   "cell_type": "code",
   "execution_count": null,
   "id": "3bf63b7d",
   "metadata": {},
   "outputs": [],
   "source": []
  },
  {
   "cell_type": "code",
   "execution_count": null,
   "id": "47f4b6f1",
   "metadata": {},
   "outputs": [],
   "source": []
  },
  {
   "cell_type": "code",
   "execution_count": null,
   "id": "52db9aa6",
   "metadata": {},
   "outputs": [],
   "source": []
  }
 ],
 "metadata": {
  "kernelspec": {
   "display_name": "Python 3 (ipykernel)",
   "language": "python",
   "name": "python3"
  },
  "language_info": {
   "codemirror_mode": {
    "name": "ipython",
    "version": 3
   },
   "file_extension": ".py",
   "mimetype": "text/x-python",
   "name": "python",
   "nbconvert_exporter": "python",
   "pygments_lexer": "ipython3",
   "version": "3.9.12"
  }
 },
 "nbformat": 4,
 "nbformat_minor": 5
}
