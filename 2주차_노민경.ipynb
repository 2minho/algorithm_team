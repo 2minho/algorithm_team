{
 "cells": [
  {
   "cell_type": "markdown",
   "id": "0f431a1f",
   "metadata": {},
   "source": [
    "# 카트 2"
   ]
  },
  {
   "cell_type": "code",
   "execution_count": 1,
   "id": "cbba450c",
   "metadata": {},
   "outputs": [
    {
     "name": "stdout",
     "output_type": "stream",
     "text": [
      "몇번까지?6\n",
      "4\n"
     ]
    }
   ],
   "source": [
    "def card():\n",
    "    n = int(input('몇번까지?'))\n",
    "    card = []\n",
    "    count = 1\n",
    "    x = 0\n",
    "    for i in range(1,n+1):\n",
    "        card.append(i)\n",
    "        \n",
    "    while card[1]!= None:\n",
    "        if count%2 == 1:\n",
    "            for i in range(1,len(card)):\n",
    "                card[i-1] = card[i]\n",
    "            card[-1] = None\n",
    "            count += 1\n",
    "            x -= 1\n",
    "            \n",
    "\n",
    "        elif count%2 == 0 :\n",
    "            card[x] = card[0]\n",
    "            for i in range(1,len(card)):\n",
    "                card[i-1] = card[i]\n",
    "            card[-1] = None\n",
    "            count += 1\n",
    "            \n",
    "    print(card[0])\n",
    "    \n",
    "card()"
   ]
  },
  {
   "cell_type": "code",
   "execution_count": null,
   "id": "750e9a11",
   "metadata": {},
   "outputs": [],
   "source": []
  },
  {
   "cell_type": "markdown",
   "id": "f6425aad",
   "metadata": {},
   "source": [
    "#  프린터"
   ]
  },
  {
   "cell_type": "code",
   "execution_count": null,
   "id": "3aecaf7c",
   "metadata": {},
   "outputs": [],
   "source": [
    "lis=['a', 'b', 'c', 'd','e','f']\n",
    "prints=[]\n",
    "imp = [1, 1, 9, 1, 1, 1]\n",
    "\n",
    "location = int(input('출력물'))\n",
    "x = lis[location]\n",
    "count = 1\n",
    "\n",
    "while len(set(imp)) != 1:\n",
    "     for i in range(1,len(imp)):\n",
    "        J = imp[0]\n",
    "        J_v = lis[0]\n",
    "        if J < imp[i] :\n",
    "            data = lis[0]\n",
    "            data_idx = imp[0]\n",
    "            for j in range(1,len(lis)):\n",
    "                lis[j-1] = lis[j]\n",
    "                imp[j-1] = imp[j]\n",
    "            lis[-1] = data\n",
    "            imp[-1] = data_idx\n",
    "            \n",
    "        elif i == (len(imp)-1) :\n",
    "            if J>imp[i]:\n",
    "                prints.append(J_v)\n",
    "                for j in range(1,len(lis)):\n",
    "                    lis[j-1] = lis[j]\n",
    "                    imp[j-1] = imp[j]\n",
    "                lis.pop()\n",
    "                imp.pop()\n",
    "            else:\n",
    "                data = lis[0]\n",
    "                data_idx = imp[0]\n",
    "                for j in range(1,len(lis)):\n",
    "                    lis[j-1] = lis[j]\n",
    "                    imp[j-1] = imp[j]\n",
    "                lis[-1] = data\n",
    "                imp[-1] = data_idx\n",
    "        elif J == imp[i]:\n",
    "            if i == len(lis)-1:\n",
    "                break\n",
    "            else:\n",
    "                continue\n",
    "        else :\n",
    "            continue\n",
    "\n",
    "last = prints + lis\n",
    "\n",
    "for i in range(len(last)):\n",
    "    if last[i] == x:\n",
    "        print(count)\n",
    "    else :\n",
    "        count += 1"
   ]
  },
  {
   "cell_type": "code",
   "execution_count": null,
   "id": "0afe932d",
   "metadata": {},
   "outputs": [],
   "source": [
    "#max() 사용\n",
    "\n",
    "def solution(priorities,location):\n",
    "    answer = 0\n",
    "    while True:\n",
    "        max_num = max(priorities)\n",
    "        for i in range(len(priorities)):\n",
    "            if max_num == priorities[i]:\n",
    "                answer += 1\n",
    "                priorties[i] = 0\n",
    "                max_num = max(priorities)\n",
    "                \n",
    "                if i == location:\n",
    "                    return answer"
   ]
  },
  {
   "cell_type": "markdown",
   "id": "3e896d91",
   "metadata": {},
   "source": [
    "# 이진수전환"
   ]
  },
  {
   "cell_type": "code",
   "execution_count": 2,
   "id": "5aeac0dc",
   "metadata": {},
   "outputs": [],
   "source": [
    "def f(x):\n",
    "    if x == 1:\n",
    "        return 1\n",
    "    elif x == 0 :\n",
    "        return 1\n",
    "    else :\n",
    "        y = x % 2\n",
    "         \n",
    "        \n",
    "    return str(f(x//2)) + str(y)"
   ]
  },
  {
   "cell_type": "code",
   "execution_count": 3,
   "id": "2211484b",
   "metadata": {},
   "outputs": [
    {
     "data": {
      "text/plain": [
       "'110101'"
      ]
     },
     "execution_count": 3,
     "metadata": {},
     "output_type": "execute_result"
    }
   ],
   "source": [
    "f(53)"
   ]
  },
  {
   "cell_type": "code",
   "execution_count": null,
   "id": "549a56a9",
   "metadata": {},
   "outputs": [],
   "source": []
  }
 ],
 "metadata": {
  "kernelspec": {
   "display_name": "Python 3 (ipykernel)",
   "language": "python",
   "name": "python3"
  },
  "language_info": {
   "codemirror_mode": {
    "name": "ipython",
    "version": 3
   },
   "file_extension": ".py",
   "mimetype": "text/x-python",
   "name": "python",
   "nbconvert_exporter": "python",
   "pygments_lexer": "ipython3",
   "version": "3.9.12"
  }
 },
 "nbformat": 4,
 "nbformat_minor": 5
}
