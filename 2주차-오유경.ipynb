{
 "cells": [
  {
   "cell_type": "markdown",
   "id": "36bd160f",
   "metadata": {},
   "source": [
    "## 카드2"
   ]
  },
  {
   "cell_type": "code",
   "execution_count": 1,
   "id": "7a1ab755",
   "metadata": {},
   "outputs": [
    {
     "name": "stdout",
     "output_type": "stream",
     "text": [
      "6\n",
      "4\n"
     ]
    }
   ],
   "source": [
    "import queue\n",
    "from collections import deque\n",
    "n = int(input())\n",
    "cards = deque()\n",
    "for card in range(1, n+1):\n",
    "    cards.append(card)\n",
    "    \n",
    "while len(cards) >1 :\n",
    "    cards.popleft()\n",
    "    temp = cards.popleft()\n",
    "    cards.append(temp)\n",
    "    \n",
    "print(cards.pop())    \n",
    "    \n",
    "    "
   ]
  },
  {
   "cell_type": "markdown",
   "id": "3d183082",
   "metadata": {},
   "source": [
    "## 프린터"
   ]
  },
  {
   "cell_type": "code",
   "execution_count": null,
   "id": "1db0f363",
   "metadata": {},
   "outputs": [],
   "source": [
    "import queue\n",
    "from collections import deque\n"
   ]
  },
  {
   "cell_type": "markdown",
   "id": "bc220c4a",
   "metadata": {},
   "source": [
    "## 이진수 변환"
   ]
  },
  {
   "cell_type": "code",
   "execution_count": 2,
   "id": "8f64d2b7",
   "metadata": {
    "scrolled": true
   },
   "outputs": [
    {
     "name": "stdout",
     "output_type": "stream",
     "text": [
      "53\n",
      "110101\n"
     ]
    }
   ],
   "source": [
    "n = int(input())\n",
    "def solution(i) : \n",
    "    if i ==0 :\n",
    "        return 0\n",
    "    return solution(i//2)*10+i%2\n",
    "print(solution(n))"
   ]
  }
 ],
 "metadata": {
  "kernelspec": {
   "display_name": "Python 3 (ipykernel)",
   "language": "python",
   "name": "python3"
  },
  "language_info": {
   "codemirror_mode": {
    "name": "ipython",
    "version": 3
   },
   "file_extension": ".py",
   "mimetype": "text/x-python",
   "name": "python",
   "nbconvert_exporter": "python",
   "pygments_lexer": "ipython3",
   "version": "3.9.12"
  }
 },
 "nbformat": 4,
 "nbformat_minor": 5
}
